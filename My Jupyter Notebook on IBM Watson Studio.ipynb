{
    "cells": [
        {
            "cell_type": "markdown",
            "metadata": {
                "collapsed": true
            },
            "source": "<h1><center>My Jupyter Notebook on IBM Data Science Experience</h1></center>"
        },
        {
            "cell_type": "markdown",
            "metadata": {},
            "source": "<center><b>by J.B. Paragas</b></center>\n<center>Teacher</center>"
        },
        {
            "cell_type": "markdown",
            "metadata": {},
            "source": "<i>I am interested in data science because I want to transition into a new career that I can easily fall in love with!</i>"
        },
        {
            "cell_type": "markdown",
            "metadata": {},
            "source": "<h3>\nIn the cell below, I am finding the average of a list of numbers\n</h3>"
        },
        {
            "cell_type": "code",
            "execution_count": 20,
            "metadata": {},
            "outputs": [
                {
                    "name": "stdout",
                    "output_type": "stream",
                    "text": "Hello, Everybody!\n[1, 2, 3, 4, 5, 6, 7, 8, 9, 10]\nThe average of these numbers is\n5.5\n"
                }
            ],
            "source": "print(\"Hello, Everybody!\")\nnumbers = [1,2,3,4,5,6,7,8,9,10]\n\n# Show the numbers in print statement\nprint(numbers)\n\n# Define SUM variable as sum of the numbers \nSUM = sum(numbers)\n# Define the mean average as the sum divided by how many numbers we are working with\nAVG = SUM/len(numbers)\n\nprint(\"The average of these numbers is\")\nprint(AVG)"
        },
        {
            "cell_type": "markdown",
            "metadata": {},
            "source": "- Example of\n- Bulleted List\n\n~~Example of strikethrough text~~\n\nExample|of|a table\n---|---|---\nHope|this is|alright!\n\n\n[Hyperlink to an image of this bunny](http://t0.gstatic.com/images?q=tbn:ANd9GcQ0HaVmawEpGya9Pe8jgcQU3JFhqEfCUjAAXNoqVrw2k_WEIkN5jzQ59q7hNdyllwDiTKazAfhyV4hyhPyloy8)\n![bunny!](http://t0.gstatic.com/images?q=tbn:ANd9GcQ0HaVmawEpGya9Pe8jgcQU3JFhqEfCUjAAXNoqVrw2k_WEIkN5jzQ59q7hNdyllwDiTKazAfhyV4hyhPyloy8)"
        },
        {
            "cell_type": "code",
            "execution_count": null,
            "metadata": {},
            "outputs": [],
            "source": ""
        }
    ],
    "metadata": {
        "kernelspec": {
            "display_name": "Python 3.6",
            "language": "python",
            "name": "python3"
        },
        "language_info": {
            "codemirror_mode": {
                "name": "ipython",
                "version": 3
            },
            "file_extension": ".py",
            "mimetype": "text/x-python",
            "name": "python",
            "nbconvert_exporter": "python",
            "pygments_lexer": "ipython3",
            "version": "3.6.9"
        }
    },
    "nbformat": 4,
    "nbformat_minor": 1
}